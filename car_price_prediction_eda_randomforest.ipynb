{
  "cells": [
    {
      "cell_type": "markdown",
      "source": [
        "**Project Name : Car Price Prediction(EDA)**\n",
        "\n",
        "\n",
        "\n",
        "\n",
        "\n",
        "\n",
        "\n",
        "\n",
        "\n",
        "College Name:Chanakya Universiy\n",
        "\n",
        "Under the guidance of Dr.Bhanu K.N\n",
        "\n",
        "\n",
        "Author:Pradeep Burli(24PG00078)\n",
        "\n",
        "\n",
        "\n",
        "**Project Summary**\n",
        "\n",
        "In this project, we predicted the prices of used cars using machine learning. The data included details like brand, year, mileage, fuel type, and transmission. After cleaning the data and analyzing it, we built a Random Forest model that gave 97% accuracy. We found that features like max power and age of the car were the most important for price prediction. This model can help people and dealers make better decisions when buying or selling used cars.\n",
        "\n",
        "**Workflow Overview**\n",
        "\n",
        "Data Collection\n",
        "Gathered used car data with key features (brand, year, mileage, etc.)\n",
        "\n",
        "Data Cleaning\n",
        "Removed missing values, duplicates, and outliers; corrected data types\n",
        "\n",
        "Exploratory Data Analysis (EDA)\n",
        "Visualized trends, correlations, and patterns in the data\n",
        "\n",
        "Feature Selection\n",
        "Identified the most relevant features for accurate prediction\n",
        "\n",
        "Model Building\n",
        "Trained a Random Forest Regressor using selected features\n",
        "\n",
        "Model Evaluation\n",
        "Achieved 97% accuracy using R² score and validated results\n",
        "\n",
        "Insights & Conclusion\n",
        "Extracted business insights and suggested practical uses of the model\n",
        "\n"
      ],
      "metadata": {
        "id": "mFYUb230e1lU"
      },
      "id": "mFYUb230e1lU"
    },
    {
      "cell_type": "markdown",
      "id": "c803b8d7",
      "metadata": {
        "papermill": {
          "duration": 0.00977,
          "end_time": "2025-03-27T04:04:31.443863",
          "exception": false,
          "start_time": "2025-03-27T04:04:31.434093",
          "status": "completed"
        },
        "tags": [],
        "id": "c803b8d7"
      },
      "source": [
        "# Importing Libraries"
      ]
    },
    {
      "cell_type": "code",
      "execution_count": null,
      "id": "784d57f3",
      "metadata": {
        "execution": {
          "iopub.execute_input": "2025-03-27T04:04:31.465437Z",
          "iopub.status.busy": "2025-03-27T04:04:31.464958Z",
          "iopub.status.idle": "2025-03-27T04:04:36.093883Z",
          "shell.execute_reply": "2025-03-27T04:04:36.092815Z"
        },
        "papermill": {
          "duration": 4.642072,
          "end_time": "2025-03-27T04:04:36.095936",
          "exception": false,
          "start_time": "2025-03-27T04:04:31.453864",
          "status": "completed"
        },
        "tags": [],
        "id": "784d57f3"
      },
      "outputs": [],
      "source": [
        "import pandas as pd\n",
        "import numpy as np\n",
        "import matplotlib.pyplot as plt\n",
        "import seaborn as sns\n",
        "from sklearn.preprocessing import LabelEncoder , OrdinalEncoder\n",
        "from sklearn.model_selection import train_test_split , cross_val_score\n",
        "from sklearn.linear_model import LinearRegression\n",
        "from sklearn.ensemble import RandomForestRegressor\n",
        "from xgboost import XGBRegressor\n",
        "from sklearn.metrics import mean_squared_error , r2_score\n",
        "import warnings\n",
        "warnings.filterwarnings('ignore')"
      ]
    },
    {
      "cell_type": "code",
      "execution_count": null,
      "id": "df81f72e",
      "metadata": {
        "execution": {
          "iopub.execute_input": "2025-03-27T04:04:36.118405Z",
          "iopub.status.busy": "2025-03-27T04:04:36.117951Z",
          "iopub.status.idle": "2025-03-27T04:04:36.176597Z",
          "shell.execute_reply": "2025-03-27T04:04:36.175525Z"
        },
        "papermill": {
          "duration": 0.072193,
          "end_time": "2025-03-27T04:04:36.178829",
          "exception": false,
          "start_time": "2025-03-27T04:04:36.106636",
          "status": "completed"
        },
        "tags": [],
        "id": "df81f72e"
      },
      "outputs": [],
      "source": [
        "# Loading the data\n",
        "df = pd.read_csv('/kaggle/input/vehicle-dataset-from-cardekho/Car details v3.csv')"
      ]
    },
    {
      "cell_type": "code",
      "execution_count": null,
      "id": "06b97e8f",
      "metadata": {
        "execution": {
          "iopub.execute_input": "2025-03-27T04:04:36.210810Z",
          "iopub.status.busy": "2025-03-27T04:04:36.210304Z",
          "iopub.status.idle": "2025-03-27T04:04:36.256397Z",
          "shell.execute_reply": "2025-03-27T04:04:36.255302Z"
        },
        "papermill": {
          "duration": 0.05951,
          "end_time": "2025-03-27T04:04:36.258109",
          "exception": false,
          "start_time": "2025-03-27T04:04:36.198599",
          "status": "completed"
        },
        "tags": [],
        "id": "06b97e8f",
        "outputId": "f36ec3f6-5c96-4612-bfff-d33924ec8c4d"
      },
      "outputs": [
        {
          "data": {
            "text/html": [
              "<div>\n",
              "<style scoped>\n",
              "    .dataframe tbody tr th:only-of-type {\n",
              "        vertical-align: middle;\n",
              "    }\n",
              "\n",
              "    .dataframe tbody tr th {\n",
              "        vertical-align: top;\n",
              "    }\n",
              "\n",
              "    .dataframe thead th {\n",
              "        text-align: right;\n",
              "    }\n",
              "</style>\n",
              "<table border=\"1\" class=\"dataframe\">\n",
              "  <thead>\n",
              "    <tr style=\"text-align: right;\">\n",
              "      <th></th>\n",
              "      <th>name</th>\n",
              "      <th>year</th>\n",
              "      <th>selling_price</th>\n",
              "      <th>km_driven</th>\n",
              "      <th>fuel</th>\n",
              "      <th>seller_type</th>\n",
              "      <th>transmission</th>\n",
              "      <th>owner</th>\n",
              "      <th>mileage</th>\n",
              "      <th>engine</th>\n",
              "      <th>max_power</th>\n",
              "      <th>torque</th>\n",
              "      <th>seats</th>\n",
              "    </tr>\n",
              "  </thead>\n",
              "  <tbody>\n",
              "    <tr>\n",
              "      <th>2273</th>\n",
              "      <td>Toyota Etios Liva G</td>\n",
              "      <td>2011</td>\n",
              "      <td>210000</td>\n",
              "      <td>84050</td>\n",
              "      <td>Petrol</td>\n",
              "      <td>Individual</td>\n",
              "      <td>Manual</td>\n",
              "      <td>First Owner</td>\n",
              "      <td>NaN</td>\n",
              "      <td>NaN</td>\n",
              "      <td>NaN</td>\n",
              "      <td>NaN</td>\n",
              "      <td>NaN</td>\n",
              "    </tr>\n",
              "    <tr>\n",
              "      <th>78</th>\n",
              "      <td>Tata Indica DLS</td>\n",
              "      <td>2003</td>\n",
              "      <td>50000</td>\n",
              "      <td>70000</td>\n",
              "      <td>Diesel</td>\n",
              "      <td>Individual</td>\n",
              "      <td>Manual</td>\n",
              "      <td>First Owner</td>\n",
              "      <td>NaN</td>\n",
              "      <td>NaN</td>\n",
              "      <td>NaN</td>\n",
              "      <td>NaN</td>\n",
              "      <td>NaN</td>\n",
              "    </tr>\n",
              "    <tr>\n",
              "      <th>1014</th>\n",
              "      <td>Mahindra XUV500 W8 2WD</td>\n",
              "      <td>2013</td>\n",
              "      <td>900000</td>\n",
              "      <td>85036</td>\n",
              "      <td>Diesel</td>\n",
              "      <td>Dealer</td>\n",
              "      <td>Manual</td>\n",
              "      <td>Second Owner</td>\n",
              "      <td>15.1 kmpl</td>\n",
              "      <td>2179 CC</td>\n",
              "      <td>140 bhp</td>\n",
              "      <td>330Nm@ 1600-2800rpm</td>\n",
              "      <td>7.0</td>\n",
              "    </tr>\n",
              "    <tr>\n",
              "      <th>6549</th>\n",
              "      <td>Volkswagen Vento Diesel Highline</td>\n",
              "      <td>2011</td>\n",
              "      <td>295000</td>\n",
              "      <td>65000</td>\n",
              "      <td>Diesel</td>\n",
              "      <td>Individual</td>\n",
              "      <td>Manual</td>\n",
              "      <td>Second Owner</td>\n",
              "      <td>20.54 kmpl</td>\n",
              "      <td>1598 CC</td>\n",
              "      <td>103.6 bhp</td>\n",
              "      <td>250Nm@ 1500-2500rpm</td>\n",
              "      <td>5.0</td>\n",
              "    </tr>\n",
              "    <tr>\n",
              "      <th>2061</th>\n",
              "      <td>Hyundai i20 Sportz 1.4 CRDi</td>\n",
              "      <td>2014</td>\n",
              "      <td>450000</td>\n",
              "      <td>56000</td>\n",
              "      <td>Diesel</td>\n",
              "      <td>Individual</td>\n",
              "      <td>Manual</td>\n",
              "      <td>First Owner</td>\n",
              "      <td>21.9 kmpl</td>\n",
              "      <td>1396 CC</td>\n",
              "      <td>88.76 bhp</td>\n",
              "      <td>219.6Nm@ 1750-2750rpm</td>\n",
              "      <td>5.0</td>\n",
              "    </tr>\n",
              "  </tbody>\n",
              "</table>\n",
              "</div>"
            ],
            "text/plain": [
              "                                  name  year  selling_price  km_driven  \\\n",
              "2273               Toyota Etios Liva G  2011         210000      84050   \n",
              "78                     Tata Indica DLS  2003          50000      70000   \n",
              "1014            Mahindra XUV500 W8 2WD  2013         900000      85036   \n",
              "6549  Volkswagen Vento Diesel Highline  2011         295000      65000   \n",
              "2061       Hyundai i20 Sportz 1.4 CRDi  2014         450000      56000   \n",
              "\n",
              "        fuel seller_type transmission         owner     mileage   engine  \\\n",
              "2273  Petrol  Individual       Manual   First Owner         NaN      NaN   \n",
              "78    Diesel  Individual       Manual   First Owner         NaN      NaN   \n",
              "1014  Diesel      Dealer       Manual  Second Owner   15.1 kmpl  2179 CC   \n",
              "6549  Diesel  Individual       Manual  Second Owner  20.54 kmpl  1598 CC   \n",
              "2061  Diesel  Individual       Manual   First Owner   21.9 kmpl  1396 CC   \n",
              "\n",
              "      max_power                 torque  seats  \n",
              "2273        NaN                    NaN    NaN  \n",
              "78          NaN                    NaN    NaN  \n",
              "1014    140 bhp    330Nm@ 1600-2800rpm    7.0  \n",
              "6549  103.6 bhp    250Nm@ 1500-2500rpm    5.0  \n",
              "2061  88.76 bhp  219.6Nm@ 1750-2750rpm    5.0  "
            ]
          },
          "execution_count": 3,
          "metadata": {},
          "output_type": "execute_result"
        }
      ],
      "source": [
        "# Show Sample of Data\n",
        "df.sample(5)"
      ]
    },
    {
      "cell_type": "code",
      "execution_count": null,
      "id": "dbbc58c5",
      "metadata": {
        "execution": {
          "iopub.execute_input": "2025-03-27T04:04:36.282049Z",
          "iopub.status.busy": "2025-03-27T04:04:36.281722Z",
          "iopub.status.idle": "2025-03-27T04:04:36.287223Z",
          "shell.execute_reply": "2025-03-27T04:04:36.286222Z"
        },
        "papermill": {
          "duration": 0.020087,
          "end_time": "2025-03-27T04:04:36.288860",
          "exception": false,
          "start_time": "2025-03-27T04:04:36.268773",
          "status": "completed"
        },
        "tags": [],
        "id": "dbbc58c5",
        "outputId": "c24ae2d3-68af-4d67-84e6-8381193564be"
      },
      "outputs": [
        {
          "data": {
            "text/plain": [
              "(8128, 13)"
            ]
          },
          "execution_count": 4,
          "metadata": {},
          "output_type": "execute_result"
        }
      ],
      "source": [
        "# Show Shape of Data\n",
        "df.shape"
      ]
    },
    {
      "cell_type": "code",
      "execution_count": null,
      "id": "0814bea5",
      "metadata": {
        "execution": {
          "iopub.execute_input": "2025-03-27T04:04:36.311357Z",
          "iopub.status.busy": "2025-03-27T04:04:36.311026Z",
          "iopub.status.idle": "2025-03-27T04:04:36.344015Z",
          "shell.execute_reply": "2025-03-27T04:04:36.342480Z"
        },
        "papermill": {
          "duration": 0.046779,
          "end_time": "2025-03-27T04:04:36.346123",
          "exception": false,
          "start_time": "2025-03-27T04:04:36.299344",
          "status": "completed"
        },
        "tags": [],
        "id": "0814bea5",
        "outputId": "06aafc76-090c-4e9e-a3b6-d9c9696b5780"
      },
      "outputs": [
        {
          "name": "stdout",
          "output_type": "stream",
          "text": [
            "<class 'pandas.core.frame.DataFrame'>\n",
            "RangeIndex: 8128 entries, 0 to 8127\n",
            "Data columns (total 13 columns):\n",
            " #   Column         Non-Null Count  Dtype  \n",
            "---  ------         --------------  -----  \n",
            " 0   name           8128 non-null   object \n",
            " 1   year           8128 non-null   int64  \n",
            " 2   selling_price  8128 non-null   int64  \n",
            " 3   km_driven      8128 non-null   int64  \n",
            " 4   fuel           8128 non-null   object \n",
            " 5   seller_type    8128 non-null   object \n",
            " 6   transmission   8128 non-null   object \n",
            " 7   owner          8128 non-null   object \n",
            " 8   mileage        7907 non-null   object \n",
            " 9   engine         7907 non-null   object \n",
            " 10  max_power      7913 non-null   object \n",
            " 11  torque         7906 non-null   object \n",
            " 12  seats          7907 non-null   float64\n",
            "dtypes: float64(1), int64(3), object(9)\n",
            "memory usage: 825.6+ KB\n"
          ]
        }
      ],
      "source": [
        "df.info()"
      ]
    },
    {
      "cell_type": "markdown",
      "id": "c19ee427",
      "metadata": {
        "papermill": {
          "duration": 0.010139,
          "end_time": "2025-03-27T04:04:36.375044",
          "exception": false,
          "start_time": "2025-03-27T04:04:36.364905",
          "status": "completed"
        },
        "tags": [],
        "id": "c19ee427"
      },
      "source": [
        "# Dealing with Null Values"
      ]
    },
    {
      "cell_type": "code",
      "execution_count": null,
      "id": "b31e7f2c",
      "metadata": {
        "execution": {
          "iopub.execute_input": "2025-03-27T04:04:36.397599Z",
          "iopub.status.busy": "2025-03-27T04:04:36.397086Z",
          "iopub.status.idle": "2025-03-27T04:04:36.413449Z",
          "shell.execute_reply": "2025-03-27T04:04:36.412348Z"
        },
        "papermill": {
          "duration": 0.029719,
          "end_time": "2025-03-27T04:04:36.415157",
          "exception": false,
          "start_time": "2025-03-27T04:04:36.385438",
          "status": "completed"
        },
        "tags": [],
        "id": "b31e7f2c",
        "outputId": "738d5d28-fb6d-45bb-b169-d89d5f12376b"
      },
      "outputs": [
        {
          "data": {
            "text/plain": [
              "name               0\n",
              "year               0\n",
              "selling_price      0\n",
              "km_driven          0\n",
              "fuel               0\n",
              "seller_type        0\n",
              "transmission       0\n",
              "owner              0\n",
              "mileage          221\n",
              "engine           221\n",
              "max_power        215\n",
              "torque           222\n",
              "seats            221\n",
              "dtype: int64"
            ]
          },
          "execution_count": 6,
          "metadata": {},
          "output_type": "execute_result"
        }
      ],
      "source": [
        "# Check NaN Value\n",
        "df.isna().sum()"
      ]
    },
    {
      "cell_type": "code",
      "execution_count": null,
      "id": "436ad9ba",
      "metadata": {
        "execution": {
          "iopub.execute_input": "2025-03-27T04:04:36.438245Z",
          "iopub.status.busy": "2025-03-27T04:04:36.437921Z",
          "iopub.status.idle": "2025-03-27T04:04:36.463527Z",
          "shell.execute_reply": "2025-03-27T04:04:36.462309Z"
        },
        "papermill": {
          "duration": 0.038888,
          "end_time": "2025-03-27T04:04:36.465258",
          "exception": false,
          "start_time": "2025-03-27T04:04:36.426370",
          "status": "completed"
        },
        "tags": [],
        "id": "436ad9ba",
        "outputId": "b52706f6-dffb-463b-cbc8-40800b44e23e"
      },
      "outputs": [
        {
          "data": {
            "text/html": [
              "<div>\n",
              "<style scoped>\n",
              "    .dataframe tbody tr th:only-of-type {\n",
              "        vertical-align: middle;\n",
              "    }\n",
              "\n",
              "    .dataframe tbody tr th {\n",
              "        vertical-align: top;\n",
              "    }\n",
              "\n",
              "    .dataframe thead th {\n",
              "        text-align: right;\n",
              "    }\n",
              "</style>\n",
              "<table border=\"1\" class=\"dataframe\">\n",
              "  <thead>\n",
              "    <tr style=\"text-align: right;\">\n",
              "      <th></th>\n",
              "      <th>year</th>\n",
              "      <th>selling_price</th>\n",
              "      <th>km_driven</th>\n",
              "      <th>seats</th>\n",
              "    </tr>\n",
              "  </thead>\n",
              "  <tbody>\n",
              "    <tr>\n",
              "      <th>count</th>\n",
              "      <td>8128.000000</td>\n",
              "      <td>8.128000e+03</td>\n",
              "      <td>8.128000e+03</td>\n",
              "      <td>7907.000000</td>\n",
              "    </tr>\n",
              "    <tr>\n",
              "      <th>mean</th>\n",
              "      <td>2013.804011</td>\n",
              "      <td>6.382718e+05</td>\n",
              "      <td>6.981951e+04</td>\n",
              "      <td>5.416719</td>\n",
              "    </tr>\n",
              "    <tr>\n",
              "      <th>std</th>\n",
              "      <td>4.044249</td>\n",
              "      <td>8.062534e+05</td>\n",
              "      <td>5.655055e+04</td>\n",
              "      <td>0.959588</td>\n",
              "    </tr>\n",
              "    <tr>\n",
              "      <th>min</th>\n",
              "      <td>1983.000000</td>\n",
              "      <td>2.999900e+04</td>\n",
              "      <td>1.000000e+00</td>\n",
              "      <td>2.000000</td>\n",
              "    </tr>\n",
              "    <tr>\n",
              "      <th>25%</th>\n",
              "      <td>2011.000000</td>\n",
              "      <td>2.549990e+05</td>\n",
              "      <td>3.500000e+04</td>\n",
              "      <td>5.000000</td>\n",
              "    </tr>\n",
              "    <tr>\n",
              "      <th>50%</th>\n",
              "      <td>2015.000000</td>\n",
              "      <td>4.500000e+05</td>\n",
              "      <td>6.000000e+04</td>\n",
              "      <td>5.000000</td>\n",
              "    </tr>\n",
              "    <tr>\n",
              "      <th>75%</th>\n",
              "      <td>2017.000000</td>\n",
              "      <td>6.750000e+05</td>\n",
              "      <td>9.800000e+04</td>\n",
              "      <td>5.000000</td>\n",
              "    </tr>\n",
              "    <tr>\n",
              "      <th>max</th>\n",
              "      <td>2020.000000</td>\n",
              "      <td>1.000000e+07</td>\n",
              "      <td>2.360457e+06</td>\n",
              "      <td>14.000000</td>\n",
              "    </tr>\n",
              "  </tbody>\n",
              "</table>\n",
              "</div>"
            ],
            "text/plain": [
              "              year  selling_price     km_driven        seats\n",
              "count  8128.000000   8.128000e+03  8.128000e+03  7907.000000\n",
              "mean   2013.804011   6.382718e+05  6.981951e+04     5.416719\n",
              "std       4.044249   8.062534e+05  5.655055e+04     0.959588\n",
              "min    1983.000000   2.999900e+04  1.000000e+00     2.000000\n",
              "25%    2011.000000   2.549990e+05  3.500000e+04     5.000000\n",
              "50%    2015.000000   4.500000e+05  6.000000e+04     5.000000\n",
              "75%    2017.000000   6.750000e+05  9.800000e+04     5.000000\n",
              "max    2020.000000   1.000000e+07  2.360457e+06    14.000000"
            ]
          },
          "execution_count": 7,
          "metadata": {},
          "output_type": "execute_result"
        }
      ],
      "source": [
        "# Describe Numiric Data\n",
        "df.describe()"
      ]
    },
    {
      "cell_type": "code",
      "execution_count": null,
      "id": "5c39038b",
      "metadata": {
        "execution": {
          "iopub.execute_input": "2025-03-27T04:04:36.488758Z",
          "iopub.status.busy": "2025-03-27T04:04:36.488269Z",
          "iopub.status.idle": "2025-03-27T04:04:36.503439Z",
          "shell.execute_reply": "2025-03-27T04:04:36.502307Z"
        },
        "papermill": {
          "duration": 0.028934,
          "end_time": "2025-03-27T04:04:36.505334",
          "exception": false,
          "start_time": "2025-03-27T04:04:36.476400",
          "status": "completed"
        },
        "tags": [],
        "id": "5c39038b"
      },
      "outputs": [],
      "source": [
        "# Delete Nulls\n",
        "df.dropna(inplace=True , ignore_index=True)  # ignore_index = Resets the index after dropping rows"
      ]
    },
    {
      "cell_type": "code",
      "execution_count": null,
      "id": "934740a5",
      "metadata": {
        "execution": {
          "iopub.execute_input": "2025-03-27T04:04:36.528924Z",
          "iopub.status.busy": "2025-03-27T04:04:36.528427Z",
          "iopub.status.idle": "2025-03-27T04:04:36.547629Z",
          "shell.execute_reply": "2025-03-27T04:04:36.546501Z"
        },
        "papermill": {
          "duration": 0.032709,
          "end_time": "2025-03-27T04:04:36.549265",
          "exception": false,
          "start_time": "2025-03-27T04:04:36.516556",
          "status": "completed"
        },
        "tags": [],
        "id": "934740a5",
        "outputId": "a4d760f4-f296-4f2d-95ef-952dd6db6694"
      },
      "outputs": [
        {
          "data": {
            "text/html": [
              "<div>\n",
              "<style scoped>\n",
              "    .dataframe tbody tr th:only-of-type {\n",
              "        vertical-align: middle;\n",
              "    }\n",
              "\n",
              "    .dataframe tbody tr th {\n",
              "        vertical-align: top;\n",
              "    }\n",
              "\n",
              "    .dataframe thead th {\n",
              "        text-align: right;\n",
              "    }\n",
              "</style>\n",
              "<table border=\"1\" class=\"dataframe\">\n",
              "  <thead>\n",
              "    <tr style=\"text-align: right;\">\n",
              "      <th></th>\n",
              "      <th>name</th>\n",
              "      <th>year</th>\n",
              "      <th>selling_price</th>\n",
              "      <th>km_driven</th>\n",
              "      <th>fuel</th>\n",
              "      <th>seller_type</th>\n",
              "      <th>transmission</th>\n",
              "      <th>owner</th>\n",
              "      <th>mileage</th>\n",
              "      <th>engine</th>\n",
              "      <th>max_power</th>\n",
              "      <th>torque</th>\n",
              "      <th>seats</th>\n",
              "    </tr>\n",
              "  </thead>\n",
              "  <tbody>\n",
              "    <tr>\n",
              "      <th>3218</th>\n",
              "      <td>Ford Figo Diesel EXI</td>\n",
              "      <td>2011</td>\n",
              "      <td>300000</td>\n",
              "      <td>80000</td>\n",
              "      <td>Diesel</td>\n",
              "      <td>Individual</td>\n",
              "      <td>Manual</td>\n",
              "      <td>First Owner</td>\n",
              "      <td>20.0 kmpl</td>\n",
              "      <td>1399 CC</td>\n",
              "      <td>68 bhp</td>\n",
              "      <td>160Nm@ 2000rpm</td>\n",
              "      <td>5.0</td>\n",
              "    </tr>\n",
              "    <tr>\n",
              "      <th>7635</th>\n",
              "      <td>Honda BRV i-VTEC V CVT</td>\n",
              "      <td>2017</td>\n",
              "      <td>950000</td>\n",
              "      <td>15000</td>\n",
              "      <td>Petrol</td>\n",
              "      <td>Individual</td>\n",
              "      <td>Automatic</td>\n",
              "      <td>First Owner</td>\n",
              "      <td>15.4 kmpl</td>\n",
              "      <td>1497 CC</td>\n",
              "      <td>117.3 bhp</td>\n",
              "      <td>145Nm@ 4600rpm</td>\n",
              "      <td>7.0</td>\n",
              "    </tr>\n",
              "    <tr>\n",
              "      <th>2921</th>\n",
              "      <td>Hyundai i20 Asta</td>\n",
              "      <td>2009</td>\n",
              "      <td>210000</td>\n",
              "      <td>89322</td>\n",
              "      <td>Petrol</td>\n",
              "      <td>Individual</td>\n",
              "      <td>Manual</td>\n",
              "      <td>Second Owner</td>\n",
              "      <td>17.0 kmpl</td>\n",
              "      <td>1197 CC</td>\n",
              "      <td>80 bhp</td>\n",
              "      <td>11.4 kgm at 4,000 rpm</td>\n",
              "      <td>5.0</td>\n",
              "    </tr>\n",
              "    <tr>\n",
              "      <th>5895</th>\n",
              "      <td>Fiat Linea 1.3 Multijet Emotion</td>\n",
              "      <td>2015</td>\n",
              "      <td>500000</td>\n",
              "      <td>70000</td>\n",
              "      <td>Diesel</td>\n",
              "      <td>Individual</td>\n",
              "      <td>Manual</td>\n",
              "      <td>First Owner</td>\n",
              "      <td>20.4 kmpl</td>\n",
              "      <td>1248 CC</td>\n",
              "      <td>91.7 bhp</td>\n",
              "      <td>209Nm@ 2000rpm</td>\n",
              "      <td>5.0</td>\n",
              "    </tr>\n",
              "    <tr>\n",
              "      <th>5250</th>\n",
              "      <td>Hyundai Verna SX Opt</td>\n",
              "      <td>2015</td>\n",
              "      <td>540000</td>\n",
              "      <td>35000</td>\n",
              "      <td>Petrol</td>\n",
              "      <td>Dealer</td>\n",
              "      <td>Manual</td>\n",
              "      <td>Second Owner</td>\n",
              "      <td>17.7 kmpl</td>\n",
              "      <td>1497 CC</td>\n",
              "      <td>113.42 bhp</td>\n",
              "      <td>144.15nm@ 4500rpm</td>\n",
              "      <td>5.0</td>\n",
              "    </tr>\n",
              "  </tbody>\n",
              "</table>\n",
              "</div>"
            ],
            "text/plain": [
              "                                 name  year  selling_price  km_driven    fuel  \\\n",
              "3218             Ford Figo Diesel EXI  2011         300000      80000  Diesel   \n",
              "7635           Honda BRV i-VTEC V CVT  2017         950000      15000  Petrol   \n",
              "2921                 Hyundai i20 Asta  2009         210000      89322  Petrol   \n",
              "5895  Fiat Linea 1.3 Multijet Emotion  2015         500000      70000  Diesel   \n",
              "5250             Hyundai Verna SX Opt  2015         540000      35000  Petrol   \n",
              "\n",
              "     seller_type transmission         owner    mileage   engine   max_power  \\\n",
              "3218  Individual       Manual   First Owner  20.0 kmpl  1399 CC      68 bhp   \n",
              "7635  Individual    Automatic   First Owner  15.4 kmpl  1497 CC   117.3 bhp   \n",
              "2921  Individual       Manual  Second Owner  17.0 kmpl  1197 CC      80 bhp   \n",
              "5895  Individual       Manual   First Owner  20.4 kmpl  1248 CC    91.7 bhp   \n",
              "5250      Dealer       Manual  Second Owner  17.7 kmpl  1497 CC  113.42 bhp   \n",
              "\n",
              "                     torque  seats  \n",
              "3218         160Nm@ 2000rpm    5.0  \n",
              "7635         145Nm@ 4600rpm    7.0  \n",
              "2921  11.4 kgm at 4,000 rpm    5.0  \n",
              "5895         209Nm@ 2000rpm    5.0  \n",
              "5250      144.15nm@ 4500rpm    5.0  "
            ]
          },
          "execution_count": 9,
          "metadata": {},
          "output_type": "execute_result"
        }
      ],
      "source": [
        "# Data After Deleting Nulls\n",
        "df.sample(5)"
      ]
    },
    {
      "cell_type": "code",
      "execution_count": null,
      "id": "ccdbe17a",
      "metadata": {
        "execution": {
          "iopub.execute_input": "2025-03-27T04:04:36.573222Z",
          "iopub.status.busy": "2025-03-27T04:04:36.572767Z",
          "iopub.status.idle": "2025-03-27T04:04:36.579104Z",
          "shell.execute_reply": "2025-03-27T04:04:36.578019Z"
        },
        "papermill": {
          "duration": 0.020442,
          "end_time": "2025-03-27T04:04:36.581109",
          "exception": false,
          "start_time": "2025-03-27T04:04:36.560667",
          "status": "completed"
        },
        "tags": [],
        "id": "ccdbe17a",
        "outputId": "ac84b4c5-11e4-4736-e8fe-29b57f25970f"
      },
      "outputs": [
        {
          "data": {
            "text/plain": [
              "(7906, 13)"
            ]
          },
          "execution_count": 10,
          "metadata": {},
          "output_type": "execute_result"
        }
      ],
      "source": [
        "# The New of Shape Data\n",
        "df.shape"
      ]
    },
    {
      "cell_type": "markdown",
      "id": "a24063ee",
      "metadata": {
        "papermill": {
          "duration": 0.011372,
          "end_time": "2025-03-27T04:04:36.605947",
          "exception": false,
          "start_time": "2025-03-27T04:04:36.594575",
          "status": "completed"
        },
        "tags": [],
        "id": "a24063ee"
      },
      "source": [
        "# Exploratory Data Analysis (EDA) and Insights\n"
      ]
    },
    {
      "cell_type": "code",
      "execution_count": null,
      "id": "07371aa0",
      "metadata": {
        "execution": {
          "iopub.execute_input": "2025-03-27T04:04:36.652674Z",
          "iopub.status.busy": "2025-03-27T04:04:36.652184Z",
          "iopub.status.idle": "2025-03-27T04:04:37.205824Z",
          "shell.execute_reply": "2025-03-27T04:04:37.204709Z"
        },
        "papermill": {
          "duration": 0.567681,
          "end_time": "2025-03-27T04:04:37.207597",
          "exception": false,
          "start_time": "2025-03-27T04:04:36.639916",
          "status": "completed"
        },
        "tags": [],
        "id": "07371aa0",
        "outputId": "f3c4b86f-5051-4b3c-9ab5-2e4fd1b478f4"
      },
      "outputs": [
        {
          "data": {
            "image/png": "[encoded data removed]",
            "text/plain": [
              "<Figure size 1000x600 with 1 Axes>"
            ]
          },
          "metadata": {},
          "output_type": "display_data"
        }
      ],
      "source": [
        "# Extracting brand names\n",
        "df['name'] = df['name'].str.split().str[0]\n",
        "\n",
        "# Counting top 20 brands\n",
        "brand_counts = df['name'].value_counts().nlargest(20)\n",
        "\n",
        "# Plotting\n",
        "plt.figure(figsize=(10, 6))\n",
        "sns.barplot(x=brand_counts.index, y=brand_counts.values, palette='viridis')\n",
        "plt.xticks(rotation=45)\n",
        "plt.xlabel(\"Brand of Car\")\n",
        "plt.ylabel(\"Number of Frequency in Data\")\n",
        "plt.title(\"Top 20 Brands of Car\")\n",
        "plt.show()\n"
      ]
    },
    {
      "cell_type": "code",
      "execution_count": null,
      "id": "55a5bbf6",
      "metadata": {
        "execution": {
          "iopub.execute_input": "2025-03-27T04:04:37.260265Z",
          "iopub.status.busy": "2025-03-27T04:04:37.259913Z",
          "iopub.status.idle": "2025-03-27T04:04:37.597911Z",
          "shell.execute_reply": "2025-03-27T04:04:37.596786Z"
        },
        "papermill": {
          "duration": 0.353752,
          "end_time": "2025-03-27T04:04:37.599974",
          "exception": false,
          "start_time": "2025-03-27T04:04:37.246222",
          "status": "completed"
        },
        "tags": [],
        "id": "55a5bbf6",
        "outputId": "de3a597d-37c7-4fda-a022-f700a9dbc7fc"
      },
      "outputs": [
        {
          "data": {
            "image/png": "[encoded data removed]",
            "text/plain": [
              "<Figure size 1000x600 with 1 Axes>"
            ]
          },
          "metadata": {},
          "output_type": "display_data"
        }
      ],
      "source": [
        "# Summing selling price by year\n",
        "sum_price_years = df.groupby('year')['selling_price'].sum()\n",
        "\n",
        "# Plotting\n",
        "plt.figure(figsize=(10, 6))\n",
        "plt.plot(sum_price_years.index, sum_price_years.values, marker='o', linestyle='-', color='red')\n",
        "plt.xlabel(\"Year of Selling the Car\")\n",
        "plt.ylabel(\"Total Selling Price\")\n",
        "plt.title(\"Total Selling Price Over the Years\")\n",
        "plt.grid(True)\n",
        "plt.xticks(sum_price_years.index.astype(int) , rotation= 45)\n",
        "plt.show()\n"
      ]
    },
    {
      "cell_type": "code",
      "execution_count": null,
      "id": "f4bd092d",
      "metadata": {
        "execution": {
          "iopub.execute_input": "2025-03-27T04:04:37.831175Z",
          "iopub.status.busy": "2025-03-27T04:04:37.830794Z",
          "iopub.status.idle": "2025-03-27T04:04:38.033765Z",
          "shell.execute_reply": "2025-03-27T04:04:38.032734Z"
        },
        "papermill": {
          "duration": 0.219534,
          "end_time": "2025-03-27T04:04:38.035366",
          "exception": false,
          "start_time": "2025-03-27T04:04:37.815832",
          "status": "completed"
        },
        "tags": [],
        "id": "f4bd092d",
        "outputId": "5c67fe01-717d-47bd-ea69-544fb736212c"
      },
      "outputs": [
        {
          "data": {
            "image/png": "[encoded data removed]",
            "text/plain": [
              "<Figure size 1000x600 with 1 Axes>"
            ]
          },
          "metadata": {},
          "output_type": "display_data"
        }
      ],
      "source": [
        "# Bar chart for average selling price by fuel type\n",
        "price_type_fuel = df.groupby('fuel')['selling_price'].mean()\n",
        "plt.figure(figsize=(10, 6))\n",
        "sns.barplot(x=price_type_fuel.index, y=price_type_fuel.values, palette='coolwarm')\n",
        "plt.xlabel(\"Type of Fuel\")\n",
        "plt.ylabel(\"Average Selling Price\")\n",
        "plt.title(\"Fuel Type Affects Selling Price\")\n",
        "plt.xticks(rotation=45)\n",
        "plt.show()"
      ]
    },
    {
      "cell_type": "code",
      "execution_count": null,
      "id": "0fee5fec",
      "metadata": {
        "execution": {
          "iopub.execute_input": "2025-03-27T04:04:38.094938Z",
          "iopub.status.busy": "2025-03-27T04:04:38.094588Z",
          "iopub.status.idle": "2025-03-27T04:04:38.212444Z",
          "shell.execute_reply": "2025-03-27T04:04:38.211430Z"
        },
        "papermill": {
          "duration": 0.135045,
          "end_time": "2025-03-27T04:04:38.214270",
          "exception": false,
          "start_time": "2025-03-27T04:04:38.079225",
          "status": "completed"
        },
        "tags": [],
        "id": "0fee5fec",
        "outputId": "b72ceb4f-751a-4e4b-b714-69212db32c0f"
      },
      "outputs": [
        {
          "data": {
            "image/png": "[encoded data removed]",
            "text/plain": [
              "<Figure size 800x800 with 1 Axes>"
            ]
          },
          "metadata": {},
          "output_type": "display_data"
        }
      ],
      "source": [
        "# Pie chart for transmission types\n",
        "type_transmission = df['transmission'].value_counts()\n",
        "plt.figure(figsize=(8, 8))\n",
        "plt.pie(type_transmission.values, labels=type_transmission.index, autopct='%1.1f%%', colors=sns.color_palette('Set2'), startangle=90, wedgeprops={'edgecolor': 'black'})\n",
        "plt.title(\"Types of Transmission\")\n",
        "plt.show()"
      ]
    },
    {
      "cell_type": "code",
      "execution_count": null,
      "id": "82278970",
      "metadata": {
        "execution": {
          "iopub.execute_input": "2025-03-27T04:04:38.247859Z",
          "iopub.status.busy": "2025-03-27T04:04:38.247451Z",
          "iopub.status.idle": "2025-03-27T04:04:38.428135Z",
          "shell.execute_reply": "2025-03-27T04:04:38.427041Z"
        },
        "papermill": {
          "duration": 0.199256,
          "end_time": "2025-03-27T04:04:38.429885",
          "exception": false,
          "start_time": "2025-03-27T04:04:38.230629",
          "status": "completed"
        },
        "tags": [],
        "id": "82278970",
        "outputId": "8d0d0e6d-9399-4bdf-8876-769c20f0cde7"
      },
      "outputs": [
        {
          "data": {
            "image/png": "[encoded data removed]",
            "text/plain": [
              "<Figure size 800x600 with 1 Axes>"
            ]
          },
          "metadata": {},
          "output_type": "display_data"
        }
      ],
      "source": [
        "# Bar chart for average selling price by transmission type\n",
        "selling_price_transmission = df.groupby('transmission')['selling_price'].mean()\n",
        "\n",
        "plt.figure(figsize=(8, 6))\n",
        "sns.barplot(x=selling_price_transmission.index, y=selling_price_transmission.values, palette='coolwarm')\n",
        "plt.xlabel(\"Type of Transmission\")\n",
        "plt.ylabel(\"Average Selling Price\")\n",
        "plt.title(\"Transmission Type Affects Selling Price\")\n",
        "plt.xticks(rotation=45)\n",
        "plt.show()\n"
      ]
    },
    {
      "cell_type": "code",
      "execution_count": null,
      "id": "67d31ade",
      "metadata": {
        "execution": {
          "iopub.execute_input": "2025-03-27T04:04:38.501003Z",
          "iopub.status.busy": "2025-03-27T04:04:38.500637Z",
          "iopub.status.idle": "2025-03-27T04:04:38.628669Z",
          "shell.execute_reply": "2025-03-27T04:04:38.627589Z"
        },
        "papermill": {
          "duration": 0.148775,
          "end_time": "2025-03-27T04:04:38.630836",
          "exception": false,
          "start_time": "2025-03-27T04:04:38.482061",
          "status": "completed"
        },
        "tags": [],
        "id": "67d31ade",
        "outputId": "97f130a2-2c2d-4908-f2de-00424e377ac9"
      },
      "outputs": [
        {
          "data": {
            "image/png": "[encoded data removed]",
            "text/plain": [
              "<Figure size 800x800 with 1 Axes>"
            ]
          },
          "metadata": {},
          "output_type": "display_data"
        }
      ],
      "source": [
        "# Pie chart for seller types\n",
        "seller_types = df['seller_type'].value_counts()\n",
        "\n",
        "plt.figure(figsize=(8, 8))\n",
        "plt.pie(seller_types.values, labels=seller_types.index, autopct='%1.1f%%', colors=sns.color_palette('Set3'))\n",
        "plt.title(\"Seller Type Affects Selling Price\")\n",
        "plt.show()\n"
      ]
    },
    {
      "cell_type": "code",
      "execution_count": null,
      "id": "e6516e7a",
      "metadata": {
        "execution": {
          "iopub.execute_input": "2025-03-27T04:04:38.669913Z",
          "iopub.status.busy": "2025-03-27T04:04:38.669539Z",
          "iopub.status.idle": "2025-03-27T04:04:38.862325Z",
          "shell.execute_reply": "2025-03-27T04:04:38.861166Z"
        },
        "papermill": {
          "duration": 0.214317,
          "end_time": "2025-03-27T04:04:38.864140",
          "exception": false,
          "start_time": "2025-03-27T04:04:38.649823",
          "status": "completed"
        },
        "tags": [],
        "id": "e6516e7a",
        "outputId": "c99f595e-9c39-47ce-ed76-b265b648af65"
      },
      "outputs": [
        {
          "data": {
            "image/png": "[encoded data removed]",
            "text/plain": [
              "<Figure size 1000x600 with 1 Axes>"
            ]
          },
          "metadata": {},
          "output_type": "display_data"
        }
      ],
      "source": [
        "# Bar chart for average selling price by seller type\n",
        "selling_price_seller_types = df.groupby('seller_type')['selling_price'].mean()\n",
        "\n",
        "plt.figure(figsize=(10, 6))\n",
        "sns.barplot(x=selling_price_seller_types.index, y=selling_price_seller_types.values, palette='coolwarm')\n",
        "plt.xlabel(\"Type of Seller\")\n",
        "plt.ylabel(\"Average Selling Price\")\n",
        "plt.title(\"Seller Type Affects Selling Price\")\n",
        "plt.xticks(rotation=45)\n",
        "plt.show()\n"
      ]
    },
    {
      "cell_type": "code",
      "execution_count": null,
      "id": "4aaa5dfc",
      "metadata": {
        "execution": {
          "iopub.execute_input": "2025-03-27T04:04:38.943828Z",
          "iopub.status.busy": "2025-03-27T04:04:38.943403Z",
          "iopub.status.idle": "2025-03-27T04:04:39.143235Z",
          "shell.execute_reply": "2025-03-27T04:04:39.142209Z"
        },
        "papermill": {
          "duration": 0.222142,
          "end_time": "2025-03-27T04:04:39.144969",
          "exception": false,
          "start_time": "2025-03-27T04:04:38.922827",
          "status": "completed"
        },
        "tags": [],
        "id": "4aaa5dfc",
        "outputId": "33927dd5-fc19-4a3a-dd07-4787471820bd"
      },
      "outputs": [
        {
          "data": {
            "image/png": "[encoded data removed]",
            "text/plain": [
              "<Figure size 1000x600 with 1 Axes>"
            ]
          },
          "metadata": {},
          "output_type": "display_data"
        }
      ],
      "source": [
        "#  average selling price for each owner type\n",
        "owner_price = df.groupby('owner')['selling_price'].mean().sort_values()\n",
        "\n",
        "# Plot bar chart\n",
        "plt.figure(figsize=(10, 6))\n",
        "sns.barplot(x=owner_price.index, y=owner_price.values, palette='coolwarm')\n",
        "\n",
        "# Labels & Title\n",
        "plt.xlabel(\"Owner Type\")\n",
        "plt.ylabel(\"Average Selling Price\")\n",
        "plt.title(\"Effect of Owner Type on Selling Price\")\n",
        "plt.xticks(rotation=45)\n",
        "\n",
        "plt.show()\n"
      ]
    },
    {
      "cell_type": "markdown",
      "id": "1babef9a",
      "metadata": {
        "papermill": {
          "duration": 0.021284,
          "end_time": "2025-03-27T04:04:39.187727",
          "exception": false,
          "start_time": "2025-03-27T04:04:39.166443",
          "status": "completed"
        },
        "tags": [],
        "id": "1babef9a"
      },
      "source": [
        "# Data Preprocessing"
      ]
    },
    {
      "cell_type": "code",
      "execution_count": null,
      "id": "976ac988",
      "metadata": {
        "execution": {
          "iopub.execute_input": "2025-03-27T04:04:39.230824Z",
          "iopub.status.busy": "2025-03-27T04:04:39.230399Z",
          "iopub.status.idle": "2025-03-27T04:04:39.244066Z",
          "shell.execute_reply": "2025-03-27T04:04:39.243198Z"
        },
        "papermill": {
          "duration": 0.036973,
          "end_time": "2025-03-27T04:04:39.245630",
          "exception": false,
          "start_time": "2025-03-27T04:04:39.208657",
          "status": "completed"
        },
        "tags": [],
        "id": "976ac988",
        "outputId": "36762739-fb1a-4e36-9a65-ac7d914e1f6f"
      },
      "outputs": [
        {
          "data": {
            "text/html": [
              "<div>\n",
              "<style scoped>\n",
              "    .dataframe tbody tr th:only-of-type {\n",
              "        vertical-align: middle;\n",
              "    }\n",
              "\n",
              "    .dataframe tbody tr th {\n",
              "        vertical-align: top;\n",
              "    }\n",
              "\n",
              "    .dataframe thead th {\n",
              "        text-align: right;\n",
              "    }\n",
              "</style>\n",
              "<table border=\"1\" class=\"dataframe\">\n",
              "  <thead>\n",
              "    <tr style=\"text-align: right;\">\n",
              "      <th></th>\n",
              "      <th>mileage</th>\n",
              "      <th>engine</th>\n",
              "      <th>max_power</th>\n",
              "    </tr>\n",
              "  </thead>\n",
              "  <tbody>\n",
              "    <tr>\n",
              "      <th>0</th>\n",
              "      <td>23.4 kmpl</td>\n",
              "      <td>1248 CC</td>\n",
              "      <td>74 bhp</td>\n",
              "    </tr>\n",
              "    <tr>\n",
              "      <th>1</th>\n",
              "      <td>21.14 kmpl</td>\n",
              "      <td>1498 CC</td>\n",
              "      <td>103.52 bhp</td>\n",
              "    </tr>\n",
              "    <tr>\n",
              "      <th>2</th>\n",
              "      <td>17.7 kmpl</td>\n",
              "      <td>1497 CC</td>\n",
              "      <td>78 bhp</td>\n",
              "    </tr>\n",
              "    <tr>\n",
              "      <th>3</th>\n",
              "      <td>23.0 kmpl</td>\n",
              "      <td>1396 CC</td>\n",
              "      <td>90 bhp</td>\n",
              "    </tr>\n",
              "    <tr>\n",
              "      <th>4</th>\n",
              "      <td>16.1 kmpl</td>\n",
              "      <td>1298 CC</td>\n",
              "      <td>88.2 bhp</td>\n",
              "    </tr>\n",
              "    <tr>\n",
              "      <th>...</th>\n",
              "      <td>...</td>\n",
              "      <td>...</td>\n",
              "      <td>...</td>\n",
              "    </tr>\n",
              "    <tr>\n",
              "      <th>7901</th>\n",
              "      <td>18.5 kmpl</td>\n",
              "      <td>1197 CC</td>\n",
              "      <td>82.85 bhp</td>\n",
              "    </tr>\n",
              "    <tr>\n",
              "      <th>7902</th>\n",
              "      <td>16.8 kmpl</td>\n",
              "      <td>1493 CC</td>\n",
              "      <td>110 bhp</td>\n",
              "    </tr>\n",
              "    <tr>\n",
              "      <th>7903</th>\n",
              "      <td>19.3 kmpl</td>\n",
              "      <td>1248 CC</td>\n",
              "      <td>73.9 bhp</td>\n",
              "    </tr>\n",
              "    <tr>\n",
              "      <th>7904</th>\n",
              "      <td>23.57 kmpl</td>\n",
              "      <td>1396 CC</td>\n",
              "      <td>70 bhp</td>\n",
              "    </tr>\n",
              "    <tr>\n",
              "      <th>7905</th>\n",
              "      <td>23.57 kmpl</td>\n",
              "      <td>1396 CC</td>\n",
              "      <td>70 bhp</td>\n",
              "    </tr>\n",
              "  </tbody>\n",
              "</table>\n",
              "<p>7906 rows × 3 columns</p>\n",
              "</div>"
            ],
            "text/plain": [
              "         mileage   engine   max_power\n",
              "0      23.4 kmpl  1248 CC      74 bhp\n",
              "1     21.14 kmpl  1498 CC  103.52 bhp\n",
              "2      17.7 kmpl  1497 CC      78 bhp\n",
              "3      23.0 kmpl  1396 CC      90 bhp\n",
              "4      16.1 kmpl  1298 CC    88.2 bhp\n",
              "...          ...      ...         ...\n",
              "7901   18.5 kmpl  1197 CC   82.85 bhp\n",
              "7902   16.8 kmpl  1493 CC     110 bhp\n",
              "7903   19.3 kmpl  1248 CC    73.9 bhp\n",
              "7904  23.57 kmpl  1396 CC      70 bhp\n",
              "7905  23.57 kmpl  1396 CC      70 bhp\n",
              "\n",
              "[7906 rows x 3 columns]"
            ]
          },
          "execution_count": 20,
          "metadata": {},
          "output_type": "execute_result"
        }
      ],
      "source": [
        "df[['mileage','engine','max_power']]"
      ]
    },
    {
      "cell_type": "code",
      "execution_count": null,
      "id": "3af0c124",
      "metadata": {
        "execution": {
          "iopub.execute_input": "2025-03-27T04:04:39.289108Z",
          "iopub.status.busy": "2025-03-27T04:04:39.288749Z",
          "iopub.status.idle": "2025-03-27T04:04:39.331511Z",
          "shell.execute_reply": "2025-03-27T04:04:39.330325Z"
        },
        "papermill": {
          "duration": 0.066748,
          "end_time": "2025-03-27T04:04:39.333392",
          "exception": false,
          "start_time": "2025-03-27T04:04:39.266644",
          "status": "completed"
        },
        "tags": [],
        "id": "3af0c124"
      },
      "outputs": [],
      "source": [
        "# Removing non-numeric characters and converting to float\n",
        "cols_to_clean = ['mileage', 'engine', 'max_power']\n",
        "df[cols_to_clean] = df[cols_to_clean].replace(r'[^0-9.]', '', regex=True).astype(float)\n"
      ]
    },
    {
      "cell_type": "code",
      "execution_count": null,
      "id": "9a62ca0c",
      "metadata": {
        "execution": {
          "iopub.execute_input": "2025-03-27T04:04:39.376914Z",
          "iopub.status.busy": "2025-03-27T04:04:39.376540Z",
          "iopub.status.idle": "2025-03-27T04:04:39.390231Z",
          "shell.execute_reply": "2025-03-27T04:04:39.389164Z"
        },
        "papermill": {
          "duration": 0.037324,
          "end_time": "2025-03-27T04:04:39.391985",
          "exception": false,
          "start_time": "2025-03-27T04:04:39.354661",
          "status": "completed"
        },
        "tags": [],
        "id": "9a62ca0c",
        "outputId": "1eaca688-68c9-4de7-e9f8-71c1efaeb9d0"
      },
      "outputs": [
        {
          "data": {
            "text/html": [
              "<div>\n",
              "<style scoped>\n",
              "    .dataframe tbody tr th:only-of-type {\n",
              "        vertical-align: middle;\n",
              "    }\n",
              "\n",
              "    .dataframe tbody tr th {\n",
              "        vertical-align: top;\n",
              "    }\n",
              "\n",
              "    .dataframe thead th {\n",
              "        text-align: right;\n",
              "    }\n",
              "</style>\n",
              "<table border=\"1\" class=\"dataframe\">\n",
              "  <thead>\n",
              "    <tr style=\"text-align: right;\">\n",
              "      <th></th>\n",
              "      <th>mileage</th>\n",
              "      <th>engine</th>\n",
              "      <th>max_power</th>\n",
              "    </tr>\n",
              "  </thead>\n",
              "  <tbody>\n",
              "    <tr>\n",
              "      <th>0</th>\n",
              "      <td>23.40</td>\n",
              "      <td>1248.0</td>\n",
              "      <td>74.00</td>\n",
              "    </tr>\n",
              "    <tr>\n",
              "      <th>1</th>\n",
              "      <td>21.14</td>\n",
              "      <td>1498.0</td>\n",
              "      <td>103.52</td>\n",
              "    </tr>\n",
              "    <tr>\n",
              "      <th>2</th>\n",
              "      <td>17.70</td>\n",
              "      <td>1497.0</td>\n",
              "      <td>78.00</td>\n",
              "    </tr>\n",
              "    <tr>\n",
              "      <th>3</th>\n",
              "      <td>23.00</td>\n",
              "      <td>1396.0</td>\n",
              "      <td>90.00</td>\n",
              "    </tr>\n",
              "    <tr>\n",
              "      <th>4</th>\n",
              "      <td>16.10</td>\n",
              "      <td>1298.0</td>\n",
              "      <td>88.20</td>\n",
              "    </tr>\n",
              "    <tr>\n",
              "      <th>...</th>\n",
              "      <td>...</td>\n",
              "      <td>...</td>\n",
              "      <td>...</td>\n",
              "    </tr>\n",
              "    <tr>\n",
              "      <th>7901</th>\n",
              "      <td>18.50</td>\n",
              "      <td>1197.0</td>\n",
              "      <td>82.85</td>\n",
              "    </tr>\n",
              "    <tr>\n",
              "      <th>7902</th>\n",
              "      <td>16.80</td>\n",
              "      <td>1493.0</td>\n",
              "      <td>110.00</td>\n",
              "    </tr>\n",
              "    <tr>\n",
              "      <th>7903</th>\n",
              "      <td>19.30</td>\n",
              "      <td>1248.0</td>\n",
              "      <td>73.90</td>\n",
              "    </tr>\n",
              "    <tr>\n",
              "      <th>7904</th>\n",
              "      <td>23.57</td>\n",
              "      <td>1396.0</td>\n",
              "      <td>70.00</td>\n",
              "    </tr>\n",
              "    <tr>\n",
              "      <th>7905</th>\n",
              "      <td>23.57</td>\n",
              "      <td>1396.0</td>\n",
              "      <td>70.00</td>\n",
              "    </tr>\n",
              "  </tbody>\n",
              "</table>\n",
              "<p>7906 rows × 3 columns</p>\n",
              "</div>"
            ],
            "text/plain": [
              "      mileage  engine  max_power\n",
              "0       23.40  1248.0      74.00\n",
              "1       21.14  1498.0     103.52\n",
              "2       17.70  1497.0      78.00\n",
              "3       23.00  1396.0      90.00\n",
              "4       16.10  1298.0      88.20\n",
              "...       ...     ...        ...\n",
              "7901    18.50  1197.0      82.85\n",
              "7902    16.80  1493.0     110.00\n",
              "7903    19.30  1248.0      73.90\n",
              "7904    23.57  1396.0      70.00\n",
              "7905    23.57  1396.0      70.00\n",
              "\n",
              "[7906 rows x 3 columns]"
            ]
          },
          "execution_count": 22,
          "metadata": {},
          "output_type": "execute_result"
        }
      ],
      "source": [
        "df[['mileage','engine','max_power']]"
      ]
    },
    {
      "cell_type": "code",
      "execution_count": null,
      "id": "3b01185c",
      "metadata": {
        "execution": {
          "iopub.execute_input": "2025-03-27T04:04:39.493209Z",
          "iopub.status.busy": "2025-03-27T04:04:39.492836Z",
          "iopub.status.idle": "2025-03-27T04:04:39.499750Z",
          "shell.execute_reply": "2025-03-27T04:04:39.498718Z"
        },
        "papermill": {
          "duration": 0.088242,
          "end_time": "2025-03-27T04:04:39.501512",
          "exception": false,
          "start_time": "2025-03-27T04:04:39.413270",
          "status": "completed"
        },
        "tags": [],
        "id": "3b01185c"
      },
      "outputs": [],
      "source": [
        "## Deleting the column 'torque' because there are many words and specifications that can be ignored.\n",
        "\n",
        "df.drop('torque' , axis = 1 , inplace = True)"
      ]
    },
    {
      "cell_type": "code",
      "execution_count": null,
      "id": "7b08d300",
      "metadata": {
        "execution": {
          "iopub.execute_input": "2025-03-27T04:04:39.548332Z",
          "iopub.status.busy": "2025-03-27T04:04:39.547977Z",
          "iopub.status.idle": "2025-03-27T04:04:39.553794Z",
          "shell.execute_reply": "2025-03-27T04:04:39.552805Z"
        },
        "papermill": {
          "duration": 0.029999,
          "end_time": "2025-03-27T04:04:39.555437",
          "exception": false,
          "start_time": "2025-03-27T04:04:39.525438",
          "status": "completed"
        },
        "tags": [],
        "id": "7b08d300"
      },
      "outputs": [],
      "source": [
        "# Changed column year to Age of production Car\n",
        "df.rename(columns={'year': 'age'}, inplace=True)\n",
        "df['age'] = 2025 - df['age']"
      ]
    },
    {
      "cell_type": "code",
      "execution_count": null,
      "id": "dc4a5cbd",
      "metadata": {
        "execution": {
          "iopub.execute_input": "2025-03-27T04:04:39.599792Z",
          "iopub.status.busy": "2025-03-27T04:04:39.599373Z",
          "iopub.status.idle": "2025-03-27T04:04:39.614437Z",
          "shell.execute_reply": "2025-03-27T04:04:39.613447Z"
        },
        "papermill": {
          "duration": 0.039226,
          "end_time": "2025-03-27T04:04:39.616254",
          "exception": false,
          "start_time": "2025-03-27T04:04:39.577028",
          "status": "completed"
        },
        "tags": [],
        "id": "dc4a5cbd",
        "outputId": "aac9717b-f6f6-4cff-e2e9-52c1c1da7534"
      },
      "outputs": [
        {
          "data": {
            "text/html": [
              "<div>\n",
              "<style scoped>\n",
              "    .dataframe tbody tr th:only-of-type {\n",
              "        vertical-align: middle;\n",
              "    }\n",
              "\n",
              "    .dataframe tbody tr th {\n",
              "        vertical-align: top;\n",
              "    }\n",
              "\n",
              "    .dataframe thead th {\n",
              "        text-align: right;\n",
              "    }\n",
              "</style>\n",
              "<table border=\"1\" class=\"dataframe\">\n",
              "  <thead>\n",
              "    <tr style=\"text-align: right;\">\n",
              "      <th></th>\n",
              "      <th>name</th>\n",
              "      <th>age</th>\n",
              "      <th>selling_price</th>\n",
              "      <th>km_driven</th>\n",
              "      <th>fuel</th>\n",
              "      <th>seller_type</th>\n",
              "      <th>transmission</th>\n",
              "      <th>owner</th>\n",
              "      <th>mileage</th>\n",
              "      <th>engine</th>\n",
              "      <th>max_power</th>\n",
              "      <th>seats</th>\n",
              "    </tr>\n",
              "  </thead>\n",
              "  <tbody>\n",
              "    <tr>\n",
              "      <th>0</th>\n",
              "      <td>Maruti</td>\n",
              "      <td>11</td>\n",
              "      <td>450000</td>\n",
              "      <td>145500</td>\n",
              "      <td>Diesel</td>\n",
              "      <td>Individual</td>\n",
              "      <td>Manual</td>\n",
              "      <td>First Owner</td>\n",
              "      <td>23.40</td>\n",
              "      <td>1248.0</td>\n",
              "      <td>74.00</td>\n",
              "      <td>5.0</td>\n",
              "    </tr>\n",
              "    <tr>\n",
              "      <th>1</th>\n",
              "      <td>Skoda</td>\n",
              "      <td>11</td>\n",
              "      <td>370000</td>\n",
              "      <td>120000</td>\n",
              "      <td>Diesel</td>\n",
              "      <td>Individual</td>\n",
              "      <td>Manual</td>\n",
              "      <td>Second Owner</td>\n",
              "      <td>21.14</td>\n",
              "      <td>1498.0</td>\n",
              "      <td>103.52</td>\n",
              "      <td>5.0</td>\n",
              "    </tr>\n",
              "    <tr>\n",
              "      <th>2</th>\n",
              "      <td>Honda</td>\n",
              "      <td>19</td>\n",
              "      <td>158000</td>\n",
              "      <td>140000</td>\n",
              "      <td>Petrol</td>\n",
              "      <td>Individual</td>\n",
              "      <td>Manual</td>\n",
              "      <td>Third Owner</td>\n",
              "      <td>17.70</td>\n",
              "      <td>1497.0</td>\n",
              "      <td>78.00</td>\n",
              "      <td>5.0</td>\n",
              "    </tr>\n",
              "    <tr>\n",
              "      <th>3</th>\n",
              "      <td>Hyundai</td>\n",
              "      <td>15</td>\n",
              "      <td>225000</td>\n",
              "      <td>127000</td>\n",
              "      <td>Diesel</td>\n",
              "      <td>Individual</td>\n",
              "      <td>Manual</td>\n",
              "      <td>First Owner</td>\n",
              "      <td>23.00</td>\n",
              "      <td>1396.0</td>\n",
              "      <td>90.00</td>\n",
              "      <td>5.0</td>\n",
              "    </tr>\n",
              "    <tr>\n",
              "      <th>4</th>\n",
              "      <td>Maruti</td>\n",
              "      <td>18</td>\n",
              "      <td>130000</td>\n",
              "      <td>120000</td>\n",
              "      <td>Petrol</td>\n",
              "      <td>Individual</td>\n",
              "      <td>Manual</td>\n",
              "      <td>First Owner</td>\n",
              "      <td>16.10</td>\n",
              "      <td>1298.0</td>\n",
              "      <td>88.20</td>\n",
              "      <td>5.0</td>\n",
              "    </tr>\n",
              "  </tbody>\n",
              "</table>\n",
              "</div>"
            ],
            "text/plain": [
              "      name  age  selling_price  km_driven    fuel seller_type transmission  \\\n",
              "0   Maruti   11         450000     145500  Diesel  Individual       Manual   \n",
              "1    Skoda   11         370000     120000  Diesel  Individual       Manual   \n",
              "2    Honda   19         158000     140000  Petrol  Individual       Manual   \n",
              "3  Hyundai   15         225000     127000  Diesel  Individual       Manual   \n",
              "4   Maruti   18         130000     120000  Petrol  Individual       Manual   \n",
              "\n",
              "          owner  mileage  engine  max_power  seats  \n",
              "0   First Owner    23.40  1248.0      74.00    5.0  \n",
              "1  Second Owner    21.14  1498.0     103.52    5.0  \n",
              "2   Third Owner    17.70  1497.0      78.00    5.0  \n",
              "3   First Owner    23.00  1396.0      90.00    5.0  \n",
              "4   First Owner    16.10  1298.0      88.20    5.0  "
            ]
          },
          "execution_count": 25,
          "metadata": {},
          "output_type": "execute_result"
        }
      ],
      "source": [
        "#  Data After some of Preprocessing\n",
        "df.head()"
      ]
    },
    {
      "cell_type": "markdown",
      "id": "0c5aeea6",
      "metadata": {
        "papermill": {
          "duration": 0.021542,
          "end_time": "2025-03-27T04:04:39.660055",
          "exception": false,
          "start_time": "2025-03-27T04:04:39.638513",
          "status": "completed"
        },
        "tags": [],
        "id": "0c5aeea6"
      },
      "source": [
        "### Now let's encode the data and make it model ready"
      ]
    },
    {
      "cell_type": "code",
      "execution_count": null,
      "id": "3a4b6cb0",
      "metadata": {
        "execution": {
          "iopub.execute_input": "2025-03-27T04:04:39.705049Z",
          "iopub.status.busy": "2025-03-27T04:04:39.704692Z",
          "iopub.status.idle": "2025-03-27T04:04:39.712000Z",
          "shell.execute_reply": "2025-03-27T04:04:39.711115Z"
        },
        "papermill": {
          "duration": 0.03172,
          "end_time": "2025-03-27T04:04:39.713535",
          "exception": false,
          "start_time": "2025-03-27T04:04:39.681815",
          "status": "completed"
        },
        "tags": [],
        "id": "3a4b6cb0"
      },
      "outputs": [],
      "source": [
        "le = LabelEncoder()\n",
        "df['name'] = le.fit_transform(df['name'])"
      ]
    },
    {
      "cell_type": "code",
      "execution_count": null,
      "id": "6ced5540",
      "metadata": {
        "execution": {
          "iopub.execute_input": "2025-03-27T04:04:39.758553Z",
          "iopub.status.busy": "2025-03-27T04:04:39.758180Z",
          "iopub.status.idle": "2025-03-27T04:04:39.767278Z",
          "shell.execute_reply": "2025-03-27T04:04:39.766427Z"
        },
        "papermill": {
          "duration": 0.033438,
          "end_time": "2025-03-27T04:04:39.768934",
          "exception": false,
          "start_time": "2025-03-27T04:04:39.735496",
          "status": "completed"
        },
        "tags": [],
        "id": "6ced5540"
      },
      "outputs": [],
      "source": [
        "owner_order = [['Test Drive Car', 'First Owner', 'Second Owner', 'Third Owner', 'Fourth & Above Owner']]\n",
        "oe = OrdinalEncoder(categories=owner_order)\n",
        "df['owner'] = oe.fit_transform(df[['owner']])"
      ]
    },
    {
      "cell_type": "code",
      "execution_count": null,
      "id": "446ec6d3",
      "metadata": {
        "execution": {
          "iopub.execute_input": "2025-03-27T04:04:39.814017Z",
          "iopub.status.busy": "2025-03-27T04:04:39.813649Z",
          "iopub.status.idle": "2025-03-27T04:04:39.829985Z",
          "shell.execute_reply": "2025-03-27T04:04:39.828672Z"
        },
        "papermill": {
          "duration": 0.04081,
          "end_time": "2025-03-27T04:04:39.831660",
          "exception": false,
          "start_time": "2025-03-27T04:04:39.790850",
          "status": "completed"
        },
        "tags": [],
        "id": "446ec6d3",
        "outputId": "df334230-bb48-4d76-97e1-42b7d538ab29"
      },
      "outputs": [
        {
          "name": "stdout",
          "output_type": "stream",
          "text": [
            "   name  age  selling_price  km_driven  owner  mileage  engine  max_power  \\\n",
            "0    20   11         450000     145500      1       23    1248         74   \n",
            "1    26   11         370000     120000      2       21    1498        103   \n",
            "2    10   19         158000     140000      3       17    1497         78   \n",
            "3    11   15         225000     127000      1       23    1396         90   \n",
            "4    20   18         130000     120000      1       16    1298         88   \n",
            "\n",
            "   seats  fuel_Diesel  fuel_LPG  fuel_Petrol  seller_type_Individual  \\\n",
            "0      5            1         0            0                       1   \n",
            "1      5            1         0            0                       1   \n",
            "2      5            0         0            1                       1   \n",
            "3      5            1         0            0                       1   \n",
            "4      5            0         0            1                       1   \n",
            "\n",
            "   seller_type_Trustmark Dealer  transmission_Manual  \n",
            "0                             0                    1  \n",
            "1                             0                    1  \n",
            "2                             0                    1  \n",
            "3                             0                    1  \n",
            "4                             0                    1  \n"
          ]
        }
      ],
      "source": [
        "categorical_cols = ['fuel', 'seller_type', 'transmission']  # Nominal\n",
        "df = pd.get_dummies(df, columns=categorical_cols, drop_first=True)\n",
        "\n",
        "# Converting boolean columns to 0/1\n",
        "df = df.astype(int)\n",
        "\n",
        "print(df.head())\n"
      ]
    },
    {
      "cell_type": "markdown",
      "id": "59c0351b",
      "metadata": {
        "papermill": {
          "duration": 0.020817,
          "end_time": "2025-03-27T04:04:39.874254",
          "exception": false,
          "start_time": "2025-03-27T04:04:39.853437",
          "status": "completed"
        },
        "tags": [],
        "id": "59c0351b"
      },
      "source": [
        "## Now let's scale the values"
      ]
    },
    {
      "cell_type": "code",
      "execution_count": null,
      "id": "26a8bab1",
      "metadata": {
        "execution": {
          "iopub.execute_input": "2025-03-27T04:04:39.918778Z",
          "iopub.status.busy": "2025-03-27T04:04:39.918368Z",
          "iopub.status.idle": "2025-03-27T04:04:39.963821Z",
          "shell.execute_reply": "2025-03-27T04:04:39.962498Z"
        },
        "papermill": {
          "duration": 0.069824,
          "end_time": "2025-03-27T04:04:39.965692",
          "exception": false,
          "start_time": "2025-03-27T04:04:39.895868",
          "status": "completed"
        },
        "tags": [],
        "id": "26a8bab1",
        "outputId": "ecf8c7cc-a001-41b4-9937-6b5e11fb3766"
      },
      "outputs": [
        {
          "name": "stdout",
          "output_type": "stream",
          "text": [
            "       name       age  selling_price  km_driven     owner   mileage    engine  \\\n",
            "0  0.318278 -0.004158      -0.245613   1.343777 -0.628935  0.988894 -0.418188   \n",
            "1  1.166997 -0.004158      -0.343950   0.894744  0.787288  0.496781  0.077980   \n",
            "2 -1.096253  2.066530      -0.604542   1.246926  2.203511 -0.487445  0.075995   \n",
            "3 -0.954799  1.031186      -0.522185   1.018008 -0.628935  0.988894 -0.124457   \n",
            "4  0.318278  1.807694      -0.638960   0.894744 -0.628935 -0.733501 -0.318955   \n",
            "\n",
            "   max_power     seats  fuel_Diesel  fuel_LPG  fuel_Petrol  \\\n",
            "0  -0.483370 -0.434128     0.915987 -0.066684    -0.895854   \n",
            "1   0.328261 -0.434128     0.915987 -0.066684    -0.895854   \n",
            "2  -0.371421 -0.434128    -1.091718 -0.066684     1.116254   \n",
            "3  -0.035574 -0.434128     0.915987 -0.066684    -0.895854   \n",
            "4  -0.091548 -0.434128    -1.091718 -0.066684     1.116254   \n",
            "\n",
            "   seller_type_Individual  seller_type_Trustmark Dealer  transmission_Manual  \n",
            "0                0.452363                     -0.175412             0.389408  \n",
            "1                0.452363                     -0.175412             0.389408  \n",
            "2                0.452363                     -0.175412             0.389408  \n",
            "3                0.452363                     -0.175412             0.389408  \n",
            "4                0.452363                     -0.175412             0.389408  \n"
          ]
        }
      ],
      "source": [
        "from sklearn.preprocessing import StandardScaler\n",
        "\n",
        "scaler = StandardScaler()\n",
        "df[df.columns] = scaler.fit_transform(df[df.columns])  # Scale all columns\n",
        "\n",
        "print(df.head())\n"
      ]
    },
    {
      "cell_type": "markdown",
      "id": "ed3c950d",
      "metadata": {
        "papermill": {
          "duration": 0.021995,
          "end_time": "2025-03-27T04:04:40.010223",
          "exception": false,
          "start_time": "2025-03-27T04:04:39.988228",
          "status": "completed"
        },
        "tags": [],
        "id": "ed3c950d"
      },
      "source": [
        "## Assign feature and target variables\n"
      ]
    },
    {
      "cell_type": "code",
      "execution_count": null,
      "id": "4a390217",
      "metadata": {
        "execution": {
          "iopub.execute_input": "2025-03-27T04:04:40.055448Z",
          "iopub.status.busy": "2025-03-27T04:04:40.055091Z",
          "iopub.status.idle": "2025-03-27T04:04:40.061499Z",
          "shell.execute_reply": "2025-03-27T04:04:40.060382Z"
        },
        "papermill": {
          "duration": 0.030753,
          "end_time": "2025-03-27T04:04:40.063335",
          "exception": false,
          "start_time": "2025-03-27T04:04:40.032582",
          "status": "completed"
        },
        "tags": [],
        "id": "4a390217"
      },
      "outputs": [],
      "source": [
        "X = df.drop('selling_price' , axis = 1)\n",
        "y = df['selling_price']"
      ]
    },
    {
      "cell_type": "code",
      "execution_count": null,
      "id": "50b75efd",
      "metadata": {
        "execution": {
          "iopub.execute_input": "2025-03-27T04:04:40.110240Z",
          "iopub.status.busy": "2025-03-27T04:04:40.109901Z",
          "iopub.status.idle": "2025-03-27T04:04:40.117933Z",
          "shell.execute_reply": "2025-03-27T04:04:40.117038Z"
        },
        "papermill": {
          "duration": 0.033214,
          "end_time": "2025-03-27T04:04:40.119644",
          "exception": false,
          "start_time": "2025-03-27T04:04:40.086430",
          "status": "completed"
        },
        "tags": [],
        "id": "50b75efd"
      },
      "outputs": [],
      "source": [
        "# Splitting Data\n",
        "\n",
        "X_train , X_test , y_train , y_test = train_test_split(X , y , test_size = 0.25 , random_state = 44 , shuffle = True)"
      ]
    },
    {
      "cell_type": "code",
      "execution_count": null,
      "id": "5bd94d29",
      "metadata": {
        "execution": {
          "iopub.execute_input": "2025-03-27T04:04:40.165693Z",
          "iopub.status.busy": "2025-03-27T04:04:40.165305Z",
          "iopub.status.idle": "2025-03-27T04:04:40.171408Z",
          "shell.execute_reply": "2025-03-27T04:04:40.170451Z"
        },
        "papermill": {
          "duration": 0.031566,
          "end_time": "2025-03-27T04:04:40.172994",
          "exception": false,
          "start_time": "2025-03-27T04:04:40.141428",
          "status": "completed"
        },
        "tags": [],
        "id": "5bd94d29",
        "outputId": "f2b8eccd-96a5-43fd-db02-4e744900a755"
      },
      "outputs": [
        {
          "name": "stdout",
          "output_type": "stream",
          "text": [
            "Shape of X_Train (5929, 14)\n",
            "Shape of X_Test (1977, 14)\n",
            "Shape of Y_Train (5929,)\n",
            "Shape of Y_Test (1977,)\n"
          ]
        }
      ],
      "source": [
        "print(f'Shape of X_Train {X_train.shape}')\n",
        "print(f'Shape of X_Test {X_test.shape}')\n",
        "print(f'Shape of Y_Train {y_train.shape}')\n",
        "print(f'Shape of Y_Test {y_test.shape}')"
      ]
    },
    {
      "cell_type": "markdown",
      "id": "fafb88ea",
      "metadata": {
        "papermill": {
          "duration": 0.022181,
          "end_time": "2025-03-27T04:04:40.218279",
          "exception": false,
          "start_time": "2025-03-27T04:04:40.196098",
          "status": "completed"
        },
        "tags": [],
        "id": "fafb88ea"
      },
      "source": [
        "# Modeling"
      ]
    },
    {
      "cell_type": "code",
      "execution_count": null,
      "id": "8ae4e59e",
      "metadata": {
        "execution": {
          "iopub.execute_input": "2025-03-27T04:04:40.263322Z",
          "iopub.status.busy": "2025-03-27T04:04:40.262910Z",
          "iopub.status.idle": "2025-03-27T04:04:40.268844Z",
          "shell.execute_reply": "2025-03-27T04:04:40.267563Z"
        },
        "papermill": {
          "duration": 0.030463,
          "end_time": "2025-03-27T04:04:40.270644",
          "exception": false,
          "start_time": "2025-03-27T04:04:40.240181",
          "status": "completed"
        },
        "tags": [],
        "id": "8ae4e59e"
      },
      "outputs": [],
      "source": [
        "# for storing the results of models\n",
        "\n",
        "df_results = pd.DataFrame(columns=[\"Model\", \"Testing Accuracy (%)\"])"
      ]
    },
    {
      "cell_type": "markdown",
      "id": "8fee3430",
      "metadata": {
        "papermill": {
          "duration": 0.021909,
          "end_time": "2025-03-27T04:04:40.315867",
          "exception": false,
          "start_time": "2025-03-27T04:04:40.293958",
          "status": "completed"
        },
        "tags": [],
        "id": "8fee3430"
      },
      "source": [
        "## OG Liner Regression"
      ]
    },
    {
      "cell_type": "code",
      "execution_count": null,
      "id": "c9e8b18d",
      "metadata": {
        "execution": {
          "iopub.execute_input": "2025-03-27T04:04:40.363043Z",
          "iopub.status.busy": "2025-03-27T04:04:40.362660Z",
          "iopub.status.idle": "2025-03-27T04:04:40.541170Z",
          "shell.execute_reply": "2025-03-27T04:04:40.539919Z"
        },
        "papermill": {
          "duration": 0.203258,
          "end_time": "2025-03-27T04:04:40.543021",
          "exception": false,
          "start_time": "2025-03-27T04:04:40.339763",
          "status": "completed"
        },
        "tags": [],
        "id": "c9e8b18d",
        "outputId": "d2208c6e-6da6-42f0-864b-5e0f4d826aee"
      },
      "outputs": [
        {
          "name": "stdout",
          "output_type": "stream",
          "text": [
            "Cross-Validation Score: 66.14491915199604\n",
            "Training Accuracy: 67.73261727805418\n",
            "Testing Accuracy: 69.0175767931842\n",
            "R² Score: 69.0175767931842\n"
          ]
        }
      ],
      "source": [
        "lr = LinearRegression()\n",
        "scores = cross_val_score(lr, X, y, cv=10)\n",
        "\n",
        "lr.fit(X_train, y_train)\n",
        "\n",
        "print(\"Cross-Validation Score:\", scores.mean() * 100)\n",
        "print(\"Training Accuracy:\", lr.score(X_train, y_train) * 100)\n",
        "print(\"Testing Accuracy:\", lr.score(X_test, y_test) * 100)\n",
        "print(\"R² Score:\", r2_score(y_test, lr.predict(X_test)) * 100)\n",
        "\n",
        "# Storing results in DataFrame\n",
        "df_results.loc[len(df_results)] = [\"Linear Regression\", lr.score(X_test, y_test) * 100]"
      ]
    },
    {
      "cell_type": "markdown",
      "id": "1b11d196",
      "metadata": {
        "papermill": {
          "duration": 0.021702,
          "end_time": "2025-03-27T04:04:40.587616",
          "exception": false,
          "start_time": "2025-03-27T04:04:40.565914",
          "status": "completed"
        },
        "tags": [],
        "id": "1b11d196"
      },
      "source": [
        "## Random Forest Model (Bagging)"
      ]
    },
    {
      "cell_type": "code",
      "execution_count": null,
      "id": "d200b3be",
      "metadata": {
        "execution": {
          "iopub.execute_input": "2025-03-27T04:04:40.634074Z",
          "iopub.status.busy": "2025-03-27T04:04:40.633724Z",
          "iopub.status.idle": "2025-03-27T04:04:41.933869Z",
          "shell.execute_reply": "2025-03-27T04:04:41.932770Z"
        },
        "papermill": {
          "duration": 1.32461,
          "end_time": "2025-03-27T04:04:41.935502",
          "exception": false,
          "start_time": "2025-03-27T04:04:40.610892",
          "status": "completed"
        },
        "tags": [],
        "id": "d200b3be",
        "outputId": "961bb968-39ff-43b9-e474-66e783d25c9f"
      },
      "outputs": [
        {
          "name": "stdout",
          "output_type": "stream",
          "text": [
            "Training Accuracy: 98.80841916842861\n",
            "Testing Accuracy: 97.01246670498807\n",
            "R² Score: 97.01246670498807\n"
          ]
        }
      ],
      "source": [
        "# Initializing the model\n",
        "rf_model = RandomForestRegressor(n_estimators=100, max_depth=10)\n",
        "\n",
        "# Training model\n",
        "rf_model.fit(X_train, y_train)\n",
        "\n",
        "# Training & Testing Accuracy\n",
        "print(\"Training Accuracy:\", rf_model.score(X_train, y_train) * 100)\n",
        "print(\"Testing Accuracy:\", rf_model.score(X_test, y_test) * 100)\n",
        "\n",
        "# R² Score\n",
        "print(\"R² Score:\", r2_score(y_test, rf_model.predict(X_test)) * 100)\n",
        "\n",
        "df_results.loc[len(df_results)] = [\"Random Forest\", rf_model.score(X_test, y_test) * 100]\n"
      ]
    },
    {
      "cell_type": "markdown",
      "id": "d16c33a1",
      "metadata": {
        "papermill": {
          "duration": 0.024613,
          "end_time": "2025-03-27T04:04:41.983594",
          "exception": false,
          "start_time": "2025-03-27T04:04:41.958981",
          "status": "completed"
        },
        "tags": [],
        "id": "d16c33a1"
      },
      "source": [
        "## XGboost Model (Boosting)"
      ]
    },
    {
      "cell_type": "code",
      "execution_count": null,
      "id": "c5a44eaf",
      "metadata": {
        "execution": {
          "iopub.execute_input": "2025-03-27T04:04:42.036104Z",
          "iopub.status.busy": "2025-03-27T04:04:42.035762Z",
          "iopub.status.idle": "2025-03-27T04:04:42.189909Z",
          "shell.execute_reply": "2025-03-27T04:04:42.187134Z"
        },
        "papermill": {
          "duration": 0.18252,
          "end_time": "2025-03-27T04:04:42.191955",
          "exception": false,
          "start_time": "2025-03-27T04:04:42.009435",
          "status": "completed"
        },
        "tags": [],
        "id": "c5a44eaf",
        "outputId": "9fb291c7-f235-4b8c-d046-4c92d8942afb"
      },
      "outputs": [
        {
          "name": "stdout",
          "output_type": "stream",
          "text": [
            "Training Accuracy: 96.97466073664275\n",
            "Testing Accuracy: 95.8521183971291\n",
            "R² Score: 95.8521183971291\n"
          ]
        }
      ],
      "source": [
        "# Initializing the model\n",
        "xgb_model = XGBRegressor(n_estimators=100, learning_rate=0.1, max_depth=3)\n",
        "\n",
        "# Training the model\n",
        "xgb_model.fit(X_train, y_train)\n",
        "\n",
        "# Training & Testing Accuracy\n",
        "print(\"Training Accuracy:\", xgb_model.score(X_train, y_train) * 100)\n",
        "print(\"Testing Accuracy:\", xgb_model.score(X_test, y_test) * 100)\n",
        "\n",
        "# R² Score\n",
        "print(\"R² Score:\", r2_score(y_test, xgb_model.predict(X_test)) * 100)\n",
        "\n",
        "df_results.loc[len(df_results)] = [\"XGBoost\", xgb_model.score(X_test, y_test) * 100]\n",
        "\n"
      ]
    },
    {
      "cell_type": "markdown",
      "id": "c455da93",
      "metadata": {
        "papermill": {
          "duration": 0.021465,
          "end_time": "2025-03-27T04:04:42.238784",
          "exception": false,
          "start_time": "2025-03-27T04:04:42.217319",
          "status": "completed"
        },
        "tags": [],
        "id": "c455da93"
      },
      "source": [
        "# Model Performance Comparison"
      ]
    },
    {
      "cell_type": "code",
      "execution_count": null,
      "id": "11b40b36",
      "metadata": {
        "execution": {
          "iopub.execute_input": "2025-03-27T04:04:42.283648Z",
          "iopub.status.busy": "2025-03-27T04:04:42.283236Z",
          "iopub.status.idle": "2025-03-27T04:04:42.449899Z",
          "shell.execute_reply": "2025-03-27T04:04:42.448813Z"
        },
        "papermill": {
          "duration": 0.191135,
          "end_time": "2025-03-27T04:04:42.451714",
          "exception": false,
          "start_time": "2025-03-27T04:04:42.260579",
          "status": "completed"
        },
        "tags": [],
        "id": "11b40b36",
        "outputId": "bfbf7f8b-7b60-4627-b6cd-e06834dd4630"
      },
      "outputs": [
        {
          "data": {
            "image/png": "[encoded data removed]",
            "text/plain": [
              "<Figure size 800x500 with 1 Axes>"
            ]
          },
          "metadata": {},
          "output_type": "display_data"
        }
      ],
      "source": [
        "plt.figure(figsize=(8, 5))\n",
        "plt.plot(df_results[\"Model\"], df_results[\"Testing Accuracy (%)\"], marker='o', linestyle='-', color='red')\n",
        "plt.title(\"Testing Accuracy Trend Across Models\")\n",
        "plt.ylabel(\"Testing Accuracy (%)\")\n",
        "plt.ylim(0, 100)\n",
        "plt.grid(axis='y', linestyle=\"--\", alpha=0.5)  # alpha → Transparency of the line\n",
        "plt.show()\n"
      ]
    },
    {
      "cell_type": "markdown",
      "id": "c1adb75d",
      "metadata": {
        "papermill": {
          "duration": 0.02268,
          "end_time": "2025-03-27T04:04:42.497676",
          "exception": false,
          "start_time": "2025-03-27T04:04:42.474996",
          "status": "completed"
        },
        "tags": [],
        "id": "c1adb75d"
      },
      "source": [
        "# Hyperparameter Tuning (Improving Model Performance)\n"
      ]
    },
    {
      "cell_type": "code",
      "execution_count": null,
      "id": "22044305",
      "metadata": {
        "execution": {
          "iopub.execute_input": "2025-03-27T04:04:42.545608Z",
          "iopub.status.busy": "2025-03-27T04:04:42.545181Z",
          "iopub.status.idle": "2025-03-27T04:06:16.129146Z",
          "shell.execute_reply": "2025-03-27T04:06:16.127995Z"
        },
        "papermill": {
          "duration": 93.631993,
          "end_time": "2025-03-27T04:06:16.152961",
          "exception": false,
          "start_time": "2025-03-27T04:04:42.520968",
          "status": "completed"
        },
        "tags": [],
        "id": "22044305",
        "outputId": "1ca30d5e-645a-4f7e-dcb2-76397f67ef1d"
      },
      "outputs": [
        {
          "name": "stdout",
          "output_type": "stream",
          "text": [
            "Best Parameters: {'max_depth': 15, 'n_estimators': 300}\n",
            "Best Score: 0.9592675136777841\n"
          ]
        }
      ],
      "source": [
        "from sklearn.model_selection import GridSearchCV\n",
        "\n",
        "# Defining parameter grid\n",
        "param_grid = {\n",
        "    'n_estimators': [100, 200 , 300],\n",
        "    'max_depth': [5, 10, 15],\n",
        "}\n",
        "\n",
        "# Grid Search\n",
        "grid_search = GridSearchCV(RandomForestRegressor(), param_grid, cv=5)\n",
        "grid_search.fit(X_train, y_train)\n",
        "\n",
        "print(\"Best Parameters:\", grid_search.best_params_)\n",
        "print(\"Best Score:\", grid_search.best_score_)\n"
      ]
    },
    {
      "cell_type": "markdown",
      "id": "02a47bdb",
      "metadata": {
        "papermill": {
          "duration": 0.022266,
          "end_time": "2025-03-27T04:06:16.197687",
          "exception": false,
          "start_time": "2025-03-27T04:06:16.175421",
          "status": "completed"
        },
        "tags": [],
        "id": "02a47bdb"
      },
      "source": [
        "# Feature Importance Analysis (Understand What Matters)"
      ]
    },
    {
      "cell_type": "code",
      "execution_count": null,
      "id": "5811ef8e",
      "metadata": {
        "execution": {
          "iopub.execute_input": "2025-03-27T04:06:16.244758Z",
          "iopub.status.busy": "2025-03-27T04:06:16.244320Z",
          "iopub.status.idle": "2025-03-27T04:06:16.531920Z",
          "shell.execute_reply": "2025-03-27T04:06:16.530841Z"
        },
        "papermill": {
          "duration": 0.312961,
          "end_time": "2025-03-27T04:06:16.533594",
          "exception": false,
          "start_time": "2025-03-27T04:06:16.220633",
          "status": "completed"
        },
        "tags": [],
        "id": "5811ef8e",
        "outputId": "59229e26-c646-4229-f33a-77253cf8f054"
      },
      "outputs": [
        {
          "data": {
            "image/png": "[encoded data removed]",
            "text/plain": [
              "<Figure size 1000x500 with 1 Axes>"
            ]
          },
          "metadata": {},
          "output_type": "display_data"
        }
      ],
      "source": [
        "importances = rf_model.feature_importances_\n",
        "feature_names = X_train.columns\n",
        "\n",
        "plt.figure(figsize=(10, 5))\n",
        "sns.barplot(x=importances, y=feature_names, palette=\"coolwarm\")\n",
        "plt.xlabel(\"Importance Score\")\n",
        "plt.ylabel(\"Feature Name\")\n",
        "plt.title(\"Feature Importance in Random Forest\")\n",
        "plt.show()\n"
      ]
    },
    {
      "cell_type": "code",
      "execution_count": null,
      "id": "817b9865",
      "metadata": {
        "papermill": {
          "duration": 0.023435,
          "end_time": "2025-03-27T04:06:16.582110",
          "exception": false,
          "start_time": "2025-03-27T04:06:16.558675",
          "status": "completed"
        },
        "tags": [],
        "id": "817b9865"
      },
      "outputs": [],
      "source": []
    },
    {
      "cell_type": "markdown",
      "source": [],
      "metadata": {
        "id": "aYQZG1TzmKPJ"
      },
      "id": "aYQZG1TzmKPJ"
    }
  ],
  "metadata": {
    "kaggle": {
      "accelerator": "none",
      "dataSources": [
        {
          "datasetId": 33080,
          "sourceId": 4852390,
          "sourceType": "datasetVersion"
        }
      ],
      "dockerImageVersionId": 30918,
      "isGpuEnabled": false,
      "isInternetEnabled": true,
      "language": "python",
      "sourceType": "notebook"
    },
    "kernelspec": {
      "display_name": "Python 3",
      "language": "python",
      "name": "python3"
    },
    "language_info": {
      "codemirror_mode": {
        "name": "ipython",
        "version": 3
      },
      "file_extension": ".py",
      "mimetype": "text/x-python",
      "name": "python",
      "nbconvert_exporter": "python",
      "pygments_lexer": "ipython3",
      "version": "3.10.12"
    },
    "papermill": {
      "default_parameters": {},
      "duration": 109.048184,
      "end_time": "2025-03-27T04:06:17.428314",
      "environment_variables": {},
      "exception": null,
      "input_path": "__notebook__.ipynb",
      "output_path": "__notebook__.ipynb",
      "parameters": {},
      "start_time": "2025-03-27T04:04:28.380130",
      "version": "2.6.0"
    },
    "colab": {
      "provenance": []
    }
  },
  "nbformat": 4,
  "nbformat_minor": 5
}